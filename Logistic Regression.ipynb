{
 "cells": [
  {
   "cell_type": "code",
   "execution_count": 246,
   "metadata": {
    "collapsed": false
   },
   "outputs": [
    {
     "name": "stdout",
     "output_type": "stream",
     "text": [
      "(51671, 18)\n"
     ]
    },
    {
     "data": {
      "text/html": [
       "<div>\n",
       "<table border=\"1\" class=\"dataframe\">\n",
       "  <thead>\n",
       "    <tr style=\"text-align: right;\">\n",
       "      <th></th>\n",
       "      <th>Unnamed: 0</th>\n",
       "      <th>display_id</th>\n",
       "      <th>ad_id</th>\n",
       "      <th>clicked</th>\n",
       "      <th>landing_page</th>\n",
       "      <th>campaign_id</th>\n",
       "      <th>advertiser_id</th>\n",
       "      <th>uuid</th>\n",
       "      <th>document_id</th>\n",
       "      <th>platform</th>\n",
       "      <th>geo_location</th>\n",
       "      <th>day</th>\n",
       "      <th>hour</th>\n",
       "      <th>category_id</th>\n",
       "      <th>topic_id</th>\n",
       "      <th>entity_id</th>\n",
       "      <th>source_id</th>\n",
       "      <th>publisher_id</th>\n",
       "    </tr>\n",
       "  </thead>\n",
       "  <tbody>\n",
       "    <tr>\n",
       "      <th>0</th>\n",
       "      <td>0</td>\n",
       "      <td>1459</td>\n",
       "      <td>132913</td>\n",
       "      <td>0</td>\n",
       "      <td>MinorityClass</td>\n",
       "      <td>MinorityClass</td>\n",
       "      <td>MinorityClass</td>\n",
       "      <td>faf57f287517f4</td>\n",
       "      <td>1649164</td>\n",
       "      <td>2</td>\n",
       "      <td>CA</td>\n",
       "      <td>2016-06-14</td>\n",
       "      <td>4</td>\n",
       "      <td>1610.0</td>\n",
       "      <td>16.0</td>\n",
       "      <td>MinorityClass</td>\n",
       "      <td>MinorityClass</td>\n",
       "      <td>MinorityClass</td>\n",
       "    </tr>\n",
       "    <tr>\n",
       "      <th>1</th>\n",
       "      <td>1</td>\n",
       "      <td>1459</td>\n",
       "      <td>176834</td>\n",
       "      <td>0</td>\n",
       "      <td>MinorityClass</td>\n",
       "      <td>MinorityClass</td>\n",
       "      <td>MinorityClass</td>\n",
       "      <td>faf57f287517f4</td>\n",
       "      <td>1649164</td>\n",
       "      <td>2</td>\n",
       "      <td>CA</td>\n",
       "      <td>2016-06-14</td>\n",
       "      <td>4</td>\n",
       "      <td>1610.0</td>\n",
       "      <td>16.0</td>\n",
       "      <td>MinorityClass</td>\n",
       "      <td>MinorityClass</td>\n",
       "      <td>MinorityClass</td>\n",
       "    </tr>\n",
       "    <tr>\n",
       "      <th>2</th>\n",
       "      <td>2</td>\n",
       "      <td>1459</td>\n",
       "      <td>206927</td>\n",
       "      <td>1</td>\n",
       "      <td>MinorityClass</td>\n",
       "      <td>MinorityClass</td>\n",
       "      <td>MinorityClass</td>\n",
       "      <td>faf57f287517f4</td>\n",
       "      <td>1649164</td>\n",
       "      <td>2</td>\n",
       "      <td>CA</td>\n",
       "      <td>2016-06-14</td>\n",
       "      <td>4</td>\n",
       "      <td>1610.0</td>\n",
       "      <td>16.0</td>\n",
       "      <td>MinorityClass</td>\n",
       "      <td>MinorityClass</td>\n",
       "      <td>MinorityClass</td>\n",
       "    </tr>\n",
       "    <tr>\n",
       "      <th>3</th>\n",
       "      <td>3</td>\n",
       "      <td>1820</td>\n",
       "      <td>45305</td>\n",
       "      <td>0</td>\n",
       "      <td>MinorityClass</td>\n",
       "      <td>MinorityClass</td>\n",
       "      <td>MinorityClass</td>\n",
       "      <td>1f73468d752afe</td>\n",
       "      <td>1764575</td>\n",
       "      <td>2</td>\n",
       "      <td>IL</td>\n",
       "      <td>2016-06-14</td>\n",
       "      <td>4</td>\n",
       "      <td>1907.0</td>\n",
       "      <td>184.0</td>\n",
       "      <td>MinorityClass</td>\n",
       "      <td>MinorityClass</td>\n",
       "      <td>MinorityClass</td>\n",
       "    </tr>\n",
       "    <tr>\n",
       "      <th>4</th>\n",
       "      <td>4</td>\n",
       "      <td>1820</td>\n",
       "      <td>97384</td>\n",
       "      <td>1</td>\n",
       "      <td>MinorityClass</td>\n",
       "      <td>MinorityClass</td>\n",
       "      <td>MinorityClass</td>\n",
       "      <td>1f73468d752afe</td>\n",
       "      <td>1764575</td>\n",
       "      <td>2</td>\n",
       "      <td>IL</td>\n",
       "      <td>2016-06-14</td>\n",
       "      <td>4</td>\n",
       "      <td>1907.0</td>\n",
       "      <td>184.0</td>\n",
       "      <td>MinorityClass</td>\n",
       "      <td>MinorityClass</td>\n",
       "      <td>MinorityClass</td>\n",
       "    </tr>\n",
       "    <tr>\n",
       "      <th>5</th>\n",
       "      <td>5</td>\n",
       "      <td>1820</td>\n",
       "      <td>211049</td>\n",
       "      <td>0</td>\n",
       "      <td>MinorityClass</td>\n",
       "      <td>MinorityClass</td>\n",
       "      <td>1863</td>\n",
       "      <td>1f73468d752afe</td>\n",
       "      <td>1764575</td>\n",
       "      <td>2</td>\n",
       "      <td>IL</td>\n",
       "      <td>2016-06-14</td>\n",
       "      <td>4</td>\n",
       "      <td>1907.0</td>\n",
       "      <td>184.0</td>\n",
       "      <td>MinorityClass</td>\n",
       "      <td>MinorityClass</td>\n",
       "      <td>MinorityClass</td>\n",
       "    </tr>\n",
       "    <tr>\n",
       "      <th>6</th>\n",
       "      <td>6</td>\n",
       "      <td>1820</td>\n",
       "      <td>250319</td>\n",
       "      <td>0</td>\n",
       "      <td>MinorityClass</td>\n",
       "      <td>MinorityClass</td>\n",
       "      <td>MinorityClass</td>\n",
       "      <td>1f73468d752afe</td>\n",
       "      <td>1764575</td>\n",
       "      <td>2</td>\n",
       "      <td>IL</td>\n",
       "      <td>2016-06-14</td>\n",
       "      <td>4</td>\n",
       "      <td>1907.0</td>\n",
       "      <td>184.0</td>\n",
       "      <td>MinorityClass</td>\n",
       "      <td>MinorityClass</td>\n",
       "      <td>MinorityClass</td>\n",
       "    </tr>\n",
       "    <tr>\n",
       "      <th>7</th>\n",
       "      <td>7</td>\n",
       "      <td>2614</td>\n",
       "      <td>67347</td>\n",
       "      <td>0</td>\n",
       "      <td>MinorityClass</td>\n",
       "      <td>MinorityClass</td>\n",
       "      <td>MinorityClass</td>\n",
       "      <td>2180e7affabb67</td>\n",
       "      <td>341873</td>\n",
       "      <td>3</td>\n",
       "      <td>OH</td>\n",
       "      <td>2016-06-14</td>\n",
       "      <td>4</td>\n",
       "      <td>1513.0</td>\n",
       "      <td>MinorityClass</td>\n",
       "      <td>Unknown</td>\n",
       "      <td>MinorityClass</td>\n",
       "      <td>MinorityClass</td>\n",
       "    </tr>\n",
       "    <tr>\n",
       "      <th>8</th>\n",
       "      <td>8</td>\n",
       "      <td>2614</td>\n",
       "      <td>144740</td>\n",
       "      <td>0</td>\n",
       "      <td>MinorityClass</td>\n",
       "      <td>MinorityClass</td>\n",
       "      <td>MinorityClass</td>\n",
       "      <td>2180e7affabb67</td>\n",
       "      <td>341873</td>\n",
       "      <td>3</td>\n",
       "      <td>OH</td>\n",
       "      <td>2016-06-14</td>\n",
       "      <td>4</td>\n",
       "      <td>1513.0</td>\n",
       "      <td>MinorityClass</td>\n",
       "      <td>Unknown</td>\n",
       "      <td>MinorityClass</td>\n",
       "      <td>MinorityClass</td>\n",
       "    </tr>\n",
       "    <tr>\n",
       "      <th>9</th>\n",
       "      <td>9</td>\n",
       "      <td>2614</td>\n",
       "      <td>148962</td>\n",
       "      <td>0</td>\n",
       "      <td>MinorityClass</td>\n",
       "      <td>MinorityClass</td>\n",
       "      <td>MinorityClass</td>\n",
       "      <td>2180e7affabb67</td>\n",
       "      <td>341873</td>\n",
       "      <td>3</td>\n",
       "      <td>OH</td>\n",
       "      <td>2016-06-14</td>\n",
       "      <td>4</td>\n",
       "      <td>1513.0</td>\n",
       "      <td>MinorityClass</td>\n",
       "      <td>Unknown</td>\n",
       "      <td>MinorityClass</td>\n",
       "      <td>MinorityClass</td>\n",
       "    </tr>\n",
       "  </tbody>\n",
       "</table>\n",
       "</div>"
      ],
      "text/plain": [
       "   Unnamed: 0  display_id   ad_id  clicked   landing_page    campaign_id  \\\n",
       "0           0        1459  132913        0  MinorityClass  MinorityClass   \n",
       "1           1        1459  176834        0  MinorityClass  MinorityClass   \n",
       "2           2        1459  206927        1  MinorityClass  MinorityClass   \n",
       "3           3        1820   45305        0  MinorityClass  MinorityClass   \n",
       "4           4        1820   97384        1  MinorityClass  MinorityClass   \n",
       "5           5        1820  211049        0  MinorityClass  MinorityClass   \n",
       "6           6        1820  250319        0  MinorityClass  MinorityClass   \n",
       "7           7        2614   67347        0  MinorityClass  MinorityClass   \n",
       "8           8        2614  144740        0  MinorityClass  MinorityClass   \n",
       "9           9        2614  148962        0  MinorityClass  MinorityClass   \n",
       "\n",
       "   advertiser_id            uuid  document_id  platform geo_location  \\\n",
       "0  MinorityClass  faf57f287517f4      1649164         2           CA   \n",
       "1  MinorityClass  faf57f287517f4      1649164         2           CA   \n",
       "2  MinorityClass  faf57f287517f4      1649164         2           CA   \n",
       "3  MinorityClass  1f73468d752afe      1764575         2           IL   \n",
       "4  MinorityClass  1f73468d752afe      1764575         2           IL   \n",
       "5           1863  1f73468d752afe      1764575         2           IL   \n",
       "6  MinorityClass  1f73468d752afe      1764575         2           IL   \n",
       "7  MinorityClass  2180e7affabb67       341873         3           OH   \n",
       "8  MinorityClass  2180e7affabb67       341873         3           OH   \n",
       "9  MinorityClass  2180e7affabb67       341873         3           OH   \n",
       "\n",
       "          day  hour category_id       topic_id      entity_id      source_id  \\\n",
       "0  2016-06-14     4      1610.0           16.0  MinorityClass  MinorityClass   \n",
       "1  2016-06-14     4      1610.0           16.0  MinorityClass  MinorityClass   \n",
       "2  2016-06-14     4      1610.0           16.0  MinorityClass  MinorityClass   \n",
       "3  2016-06-14     4      1907.0          184.0  MinorityClass  MinorityClass   \n",
       "4  2016-06-14     4      1907.0          184.0  MinorityClass  MinorityClass   \n",
       "5  2016-06-14     4      1907.0          184.0  MinorityClass  MinorityClass   \n",
       "6  2016-06-14     4      1907.0          184.0  MinorityClass  MinorityClass   \n",
       "7  2016-06-14     4      1513.0  MinorityClass        Unknown  MinorityClass   \n",
       "8  2016-06-14     4      1513.0  MinorityClass        Unknown  MinorityClass   \n",
       "9  2016-06-14     4      1513.0  MinorityClass        Unknown  MinorityClass   \n",
       "\n",
       "    publisher_id  \n",
       "0  MinorityClass  \n",
       "1  MinorityClass  \n",
       "2  MinorityClass  \n",
       "3  MinorityClass  \n",
       "4  MinorityClass  \n",
       "5  MinorityClass  \n",
       "6  MinorityClass  \n",
       "7  MinorityClass  \n",
       "8  MinorityClass  \n",
       "9  MinorityClass  "
      ]
     },
     "execution_count": 246,
     "metadata": {},
     "output_type": "execute_result"
    }
   ],
   "source": [
    "import pandas as pd\n",
    "\n",
    "data = pd.read_csv(\"MinorityTransformed20.csv\")\n",
    "print data.shape\n",
    "data[:10]"
   ]
  },
  {
   "cell_type": "code",
   "execution_count": 247,
   "metadata": {
    "collapsed": false,
    "scrolled": true
   },
   "outputs": [
    {
     "data": {
      "text/plain": [
       "Unnamed: 0       51671\n",
       "display_id        9994\n",
       "ad_id            17547\n",
       "clicked              2\n",
       "landing_page        21\n",
       "campaign_id         21\n",
       "advertiser_id       21\n",
       "uuid              9993\n",
       "document_id       7317\n",
       "platform             3\n",
       "geo_location        55\n",
       "day                 14\n",
       "hour                24\n",
       "category_id         21\n",
       "topic_id            21\n",
       "entity_id           21\n",
       "source_id           21\n",
       "publisher_id        21\n",
       "dtype: int64"
      ]
     },
     "execution_count": 247,
     "metadata": {},
     "output_type": "execute_result"
    }
   ],
   "source": [
    "data.T.apply(lambda x: x.nunique(), axis=1)"
   ]
  },
  {
   "cell_type": "code",
   "execution_count": 248,
   "metadata": {
    "collapsed": false
   },
   "outputs": [],
   "source": [
    "# Dropping unnecessary columns\n",
    "data2 = data[:] # keeping a copy for later\n",
    "#data.drop(['Unnamed: 0','Unnamed: 0.1','day','display_id','ad_id','landing_page','campaign_id','advertiser_id','uuid','document_id','source_id','geo_location'], axis=1, inplace=True)\n",
    "data.drop(['Unnamed: 0','display_id','ad_id','uuid','document_id'], axis=1, inplace=True)"
   ]
  },
  {
   "cell_type": "code",
   "execution_count": 249,
   "metadata": {
    "collapsed": false
   },
   "outputs": [
    {
     "data": {
      "text/plain": [
       "clicked           2\n",
       "landing_page     21\n",
       "campaign_id      21\n",
       "advertiser_id    21\n",
       "platform          3\n",
       "geo_location     55\n",
       "day              14\n",
       "hour             24\n",
       "category_id      21\n",
       "topic_id         21\n",
       "entity_id        21\n",
       "source_id        21\n",
       "publisher_id     21\n",
       "dtype: int64"
      ]
     },
     "execution_count": 249,
     "metadata": {},
     "output_type": "execute_result"
    }
   ],
   "source": [
    "data.T.apply(lambda x: x.nunique(), axis=1)"
   ]
  },
  {
   "cell_type": "code",
   "execution_count": 250,
   "metadata": {
    "collapsed": true
   },
   "outputs": [],
   "source": [
    "from sklearn.model_selection import (train_test_split,GridSearchCV)\n",
    "from sklearn.linear_model import LogisticRegression\n",
    "import numpy as np"
   ]
  },
  {
   "cell_type": "code",
   "execution_count": 251,
   "metadata": {
    "collapsed": false
   },
   "outputs": [
    {
     "name": "stdout",
     "output_type": "stream",
     "text": [
      "(37003, 239)\n",
      "(14668, 239)\n",
      "(37003L,)\n",
      "(14668L,)\n"
     ]
    }
   ],
   "source": [
    "# Converting to dummies\n",
    "data = pd.get_dummies(data)\n",
    "\n",
    "# Splitting into train and test\n",
    "\n",
    "# X = data.ix[:, data.columns != 'clicked']\n",
    "# y = data['clicked']\n",
    "# X_train, X_test, y_train, y_test = train_test_split(X, y, test_size=0.33, random_state=42)\n",
    "X = data[:37003]\n",
    "y = data[37003:]\n",
    "\n",
    "X_train = X.ix[:, X.columns != 'clicked']\n",
    "X_test = y.ix[:, y.columns != 'clicked']\n",
    "\n",
    "y_train = X['clicked']\n",
    "y_test = y['clicked']\n",
    "\n",
    "print X_train.shape\n",
    "print X_test.shape\n",
    "print y_train.shape\n",
    "print y_test.shape"
   ]
  },
  {
   "cell_type": "code",
   "execution_count": 252,
   "metadata": {
    "collapsed": false
   },
   "outputs": [
    {
     "data": {
      "text/html": [
       "<div>\n",
       "<table border=\"1\" class=\"dataframe\">\n",
       "  <thead>\n",
       "    <tr style=\"text-align: right;\">\n",
       "      <th></th>\n",
       "      <th>platform</th>\n",
       "      <th>hour</th>\n",
       "      <th>landing_page_1031141</th>\n",
       "      <th>landing_page_1060089</th>\n",
       "      <th>landing_page_1098103</th>\n",
       "      <th>landing_page_1116986</th>\n",
       "      <th>landing_page_1128940</th>\n",
       "      <th>landing_page_1137800</th>\n",
       "      <th>landing_page_1148731</th>\n",
       "      <th>landing_page_1151028</th>\n",
       "      <th>...</th>\n",
       "      <th>publisher_id_450.0</th>\n",
       "      <th>publisher_id_704.0</th>\n",
       "      <th>publisher_id_714.0</th>\n",
       "      <th>publisher_id_740.0</th>\n",
       "      <th>publisher_id_78.0</th>\n",
       "      <th>publisher_id_784.0</th>\n",
       "      <th>publisher_id_867.0</th>\n",
       "      <th>publisher_id_874.0</th>\n",
       "      <th>publisher_id_875.0</th>\n",
       "      <th>publisher_id_MinorityClass</th>\n",
       "    </tr>\n",
       "  </thead>\n",
       "  <tbody>\n",
       "    <tr>\n",
       "      <th>0</th>\n",
       "      <td>2</td>\n",
       "      <td>4</td>\n",
       "      <td>0.0</td>\n",
       "      <td>0.0</td>\n",
       "      <td>0.0</td>\n",
       "      <td>0.0</td>\n",
       "      <td>0.0</td>\n",
       "      <td>0.0</td>\n",
       "      <td>0.0</td>\n",
       "      <td>0.0</td>\n",
       "      <td>...</td>\n",
       "      <td>0.0</td>\n",
       "      <td>0.0</td>\n",
       "      <td>0.0</td>\n",
       "      <td>0.0</td>\n",
       "      <td>0.0</td>\n",
       "      <td>0.0</td>\n",
       "      <td>0.0</td>\n",
       "      <td>0.0</td>\n",
       "      <td>0.0</td>\n",
       "      <td>1.0</td>\n",
       "    </tr>\n",
       "    <tr>\n",
       "      <th>1</th>\n",
       "      <td>2</td>\n",
       "      <td>4</td>\n",
       "      <td>0.0</td>\n",
       "      <td>0.0</td>\n",
       "      <td>0.0</td>\n",
       "      <td>0.0</td>\n",
       "      <td>0.0</td>\n",
       "      <td>0.0</td>\n",
       "      <td>0.0</td>\n",
       "      <td>0.0</td>\n",
       "      <td>...</td>\n",
       "      <td>0.0</td>\n",
       "      <td>0.0</td>\n",
       "      <td>0.0</td>\n",
       "      <td>0.0</td>\n",
       "      <td>0.0</td>\n",
       "      <td>0.0</td>\n",
       "      <td>0.0</td>\n",
       "      <td>0.0</td>\n",
       "      <td>0.0</td>\n",
       "      <td>1.0</td>\n",
       "    </tr>\n",
       "    <tr>\n",
       "      <th>2</th>\n",
       "      <td>2</td>\n",
       "      <td>4</td>\n",
       "      <td>0.0</td>\n",
       "      <td>0.0</td>\n",
       "      <td>0.0</td>\n",
       "      <td>0.0</td>\n",
       "      <td>0.0</td>\n",
       "      <td>0.0</td>\n",
       "      <td>0.0</td>\n",
       "      <td>0.0</td>\n",
       "      <td>...</td>\n",
       "      <td>0.0</td>\n",
       "      <td>0.0</td>\n",
       "      <td>0.0</td>\n",
       "      <td>0.0</td>\n",
       "      <td>0.0</td>\n",
       "      <td>0.0</td>\n",
       "      <td>0.0</td>\n",
       "      <td>0.0</td>\n",
       "      <td>0.0</td>\n",
       "      <td>1.0</td>\n",
       "    </tr>\n",
       "  </tbody>\n",
       "</table>\n",
       "<p>3 rows × 239 columns</p>\n",
       "</div>"
      ],
      "text/plain": [
       "   platform  hour  landing_page_1031141  landing_page_1060089  \\\n",
       "0         2     4                   0.0                   0.0   \n",
       "1         2     4                   0.0                   0.0   \n",
       "2         2     4                   0.0                   0.0   \n",
       "\n",
       "   landing_page_1098103  landing_page_1116986  landing_page_1128940  \\\n",
       "0                   0.0                   0.0                   0.0   \n",
       "1                   0.0                   0.0                   0.0   \n",
       "2                   0.0                   0.0                   0.0   \n",
       "\n",
       "   landing_page_1137800  landing_page_1148731  landing_page_1151028  \\\n",
       "0                   0.0                   0.0                   0.0   \n",
       "1                   0.0                   0.0                   0.0   \n",
       "2                   0.0                   0.0                   0.0   \n",
       "\n",
       "              ...              publisher_id_450.0  publisher_id_704.0  \\\n",
       "0             ...                             0.0                 0.0   \n",
       "1             ...                             0.0                 0.0   \n",
       "2             ...                             0.0                 0.0   \n",
       "\n",
       "   publisher_id_714.0  publisher_id_740.0  publisher_id_78.0  \\\n",
       "0                 0.0                 0.0                0.0   \n",
       "1                 0.0                 0.0                0.0   \n",
       "2                 0.0                 0.0                0.0   \n",
       "\n",
       "   publisher_id_784.0  publisher_id_867.0  publisher_id_874.0  \\\n",
       "0                 0.0                 0.0                 0.0   \n",
       "1                 0.0                 0.0                 0.0   \n",
       "2                 0.0                 0.0                 0.0   \n",
       "\n",
       "   publisher_id_875.0  publisher_id_MinorityClass  \n",
       "0                 0.0                         1.0  \n",
       "1                 0.0                         1.0  \n",
       "2                 0.0                         1.0  \n",
       "\n",
       "[3 rows x 239 columns]"
      ]
     },
     "execution_count": 252,
     "metadata": {},
     "output_type": "execute_result"
    }
   ],
   "source": [
    "X_train[:3]"
   ]
  },
  {
   "cell_type": "code",
   "execution_count": 254,
   "metadata": {
    "collapsed": false
   },
   "outputs": [
    {
     "data": {
      "text/plain": [
       "LogisticRegression(C=1.0, class_weight=None, dual=False, fit_intercept=True,\n",
       "          intercept_scaling=1, max_iter=100, multi_class='ovr', n_jobs=1,\n",
       "          penalty='l2', random_state=None, solver='liblinear', tol=0.0001,\n",
       "          verbose=0, warm_start=False)"
      ]
     },
     "execution_count": 254,
     "metadata": {},
     "output_type": "execute_result"
    }
   ],
   "source": [
    "# Logistic regression\n",
    "logit = LogisticRegression()\n",
    "logit.fit(X_train,y_train)"
   ]
  },
  {
   "cell_type": "code",
   "execution_count": 255,
   "metadata": {
    "collapsed": true
   },
   "outputs": [],
   "source": [
    "# Predict on test\n",
    "predicted = logit.predict(X_test)"
   ]
  },
  {
   "cell_type": "code",
   "execution_count": 256,
   "metadata": {
    "collapsed": false
   },
   "outputs": [
    {
     "name": "stdout",
     "output_type": "stream",
     "text": [
      "predictions for classes: [0 1]\n"
     ]
    },
    {
     "data": {
      "text/plain": [
       "array([ 0.26442547,  0.26442547,  0.04717199,  0.14510495,  0.23262607,\n",
       "        0.23262607,  0.07311079,  0.23262607,  0.23262607,  0.23262607,\n",
       "        0.27516775,  0.20311718,  0.30417381,  0.30417381,  0.30417381,\n",
       "        0.30417381,  0.25514853,  0.05815173,  0.10311877,  0.06733771,\n",
       "        0.3095451 ,  0.3095451 ,  0.11514053,  0.11514053,  0.11514053,\n",
       "        0.11514053,  0.11514053,  0.11514053,  0.11514053,  0.11514053])"
      ]
     },
     "execution_count": 256,
     "metadata": {},
     "output_type": "execute_result"
    }
   ],
   "source": [
    "predicted_prob = logit.predict_proba(X_test)\n",
    "print \"predictions for classes:\",logit.classes_\n",
    "\n",
    "# Getting prob of click\n",
    "click_prob = predicted_prob[:,1]\n",
    "click_prob[:30]"
   ]
  },
  {
   "cell_type": "code",
   "execution_count": 275,
   "metadata": {
    "collapsed": true
   },
   "outputs": [],
   "source": [
    "# MAP function\n",
    "def apk(actual, predicted, k=12):\n",
    "    if len(predicted)>k:\n",
    "        predicted = predicted[:k]\n",
    "    score = 0.0\n",
    "    num_hits = 0.0\n",
    "    for i,p in enumerate(predicted):\n",
    "        if p in actual and p not in predicted[:i]:\n",
    "            num_hits += 1.0\n",
    "            score += num_hits / (i+1.0)\n",
    "    if not actual:\n",
    "        return 0.0\n",
    "    return score / min(len(actual), k)\n",
    "\n",
    "def mapk(actual, predicted, k=12):\n",
    "    return np.mean([apk(a,p,k) for a,p in zip(actual, predicted)])"
   ]
  },
  {
   "cell_type": "code",
   "execution_count": 258,
   "metadata": {
    "collapsed": false
   },
   "outputs": [
    {
     "name": "stdout",
     "output_type": "stream",
     "text": [
      "0.563100728015\n"
     ]
    }
   ],
   "source": [
    "# Assigning probabilities to test\n",
    "#test_index = X_test.index.values.tolist()\n",
    "\n",
    "#test_fin = data2[data2.index.isin(test_index)]\n",
    "test_fin = data2[37003:]\n",
    "test_fin = test_fin[['display_id','ad_id','clicked']]\n",
    "test_fin['predict'] = click_prob\n",
    "\n",
    "# Sorting probability in descending order - test\n",
    "test_fin = test_fin.sort_values(by=['display_id','predict'], ascending=[True, False])\n",
    "test_fin2 = test_fin[['display_id','ad_id']].groupby('display_id')['ad_id'].agg(lambda col: ' '.join(map(str,col)))\n",
    "\n",
    "# Sorting probability in descending order - real\n",
    "real = test_fin.sort_values(by=['display_id','clicked'], ascending=[True, False])\n",
    "real2 = real[['display_id','ad_id']].groupby('display_id')['ad_id'].agg(lambda col: ' '.join(map(str,col)))\n",
    "\n",
    "# Check accuracy\n",
    "print(mapk(real2,test_fin2))"
   ]
  },
  {
   "cell_type": "code",
   "execution_count": 278,
   "metadata": {
    "collapsed": false
   },
   "outputs": [
    {
     "name": "stdout",
     "output_type": "stream",
     "text": [
      "display_id\n",
      "12035906    244979 508124 23690 104707 189812 63889\n",
      "Name: ad_id, dtype: object\n",
      "display_id\n",
      "12035906    23690 244979 508124 104707 189812 63889\n",
      "Name: ad_id, dtype: object\n",
      "0.61752044252\n"
     ]
    }
   ],
   "source": [
    "a = test_fin2.iloc[3:4]\n",
    "b = real2.iloc[3:4]\n",
    "print a\n",
    "print b\n",
    "print(mapk(b,a))"
   ]
  },
  {
   "cell_type": "code",
   "execution_count": 310,
   "metadata": {
    "collapsed": false
   },
   "outputs": [
    {
     "name": "stdout",
     "output_type": "stream",
     "text": [
      "0.524804406461\n"
     ]
    }
   ],
   "source": [
    "test_index_range = data2[37003:].groupby('display_id').count()['ad_id'].tolist()\n",
    "\n",
    "start = 0\n",
    "num = 0\n",
    "map12 = 0\n",
    "for p in test_index_range:\n",
    "   end = start+p\n",
    "   temp_pred = click_prob.tolist()[start:end]\n",
    "   temp = pd.DataFrame(data2[37003:].reset_index().ix[start:end-1][['ad_id','clicked']]).copy().reset_index().drop('index',axis=1)\n",
    "   df=pd.DataFrame(temp_pred,columns=['prob'])\n",
    "   temp = pd.concat([temp,df],axis=1)\n",
    "   temp2= temp.sort_values('prob',ascending=False).reset_index().drop('index',axis=1)\n",
    "   index = temp2.ix[temp2['clicked']==1].index[0]\n",
    "   map12 = map12+(1.0/(index+1))\n",
    "   start = end\n",
    "print map12/len(test_index_range)"
   ]
  }
 ],
 "metadata": {
  "anaconda-cloud": {},
  "kernelspec": {
   "display_name": "Python [Root]",
   "language": "python",
   "name": "Python [Root]"
  },
  "language_info": {
   "codemirror_mode": {
    "name": "ipython",
    "version": 2
   },
   "file_extension": ".py",
   "mimetype": "text/x-python",
   "name": "python",
   "nbconvert_exporter": "python",
   "pygments_lexer": "ipython2",
   "version": "2.7.11"
  }
 },
 "nbformat": 4,
 "nbformat_minor": 0
}
