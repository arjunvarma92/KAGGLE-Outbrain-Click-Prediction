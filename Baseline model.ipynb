{
 "cells": [
  {
   "cell_type": "code",
   "execution_count": null,
   "metadata": {
    "collapsed": true
   },
   "outputs": [],
   "source": [
    "# Submission to leaderboard\n",
    "\n",
    "import pandas as pd\n",
    "import numpy as np \n",
    "\n",
    "train = pd.read_csv(\"clicks_train.csv\")\n",
    "\n",
    "cnt = train[train.clicked==1].ad_id.value_counts()\n",
    "cntall = train.ad_id.value_counts()\n",
    "\n",
    "def get_prob(k):\n",
    "    if k not in cnt:\n",
    "        return 0\n",
    "    return cnt[k]/float(cntall[k])\n",
    "\n",
    "def srt(x):\n",
    "    ad_ids = map(int, x.split())\n",
    "    ad_ids = sorted(ad_ids, key=get_prob, reverse=True)\n",
    "    return \" \".join(map(str,ad_ids))\n",
    "   \n",
    "subm = pd.read_csv(\"sample_submission.csv\") \n",
    "subm['ad_id'] = subm.ad_id.apply(lambda x: srt(x))\n",
    "subm.to_csv(\"subm_1prob.csv\", index=False)"
   ]
  },
  {
   "cell_type": "code",
   "execution_count": null,
   "metadata": {
    "collapsed": true
   },
   "outputs": [],
   "source": [
    "data = pd.read_csv(\"MinorityTransformed20.csv\")\n",
    "input_file= data[['display_id','ad_id','clicked']]\n",
    "\n",
    "train_new = input_file[:37003]\n",
    "test = data[['display_id','ad_id']][37003:]\n",
    "test_mod = test[['display_id','ad_id']].groupby('display_id')['ad_id'].agg(lambda col: ' '.join(map(str,col)))\n",
    "test_mod = test_mod.to_frame().reset_index()\n",
    "test_mod[:5]"
   ]
  },
  {
   "cell_type": "code",
   "execution_count": null,
   "metadata": {
    "collapsed": true
   },
   "outputs": [],
   "source": [
    "# Modified for sample\n",
    "\n",
    "import pandas as pd\n",
    "import numpy as np \n",
    "\n",
    "train = input_file[:37003]\n",
    "\n",
    "cnt = train[train.clicked==1].ad_id.value_counts()\n",
    "cntall = train.ad_id.value_counts()\n",
    "\n",
    "def get_prob(k):\n",
    "    if k not in cnt:\n",
    "        return 0\n",
    "    return cnt[k]/float(cntall[k])\n",
    "\n",
    "def srt(x):\n",
    "    ad_ids = map(int, x.split())\n",
    "    ad_ids = sorted(ad_ids, key=get_prob, reverse=True)\n",
    "    return \" \".join(map(str,ad_ids))\n",
    "   \n",
    "subm = test_mod[:] \n",
    "subm['ad_id'] = subm.ad_id.apply(lambda x: srt(x))\n",
    "subm.to_csv(\"sample_baseline.csv\", index=False)"
   ]
  }
 ],
 "metadata": {
  "kernelspec": {
   "display_name": "Python [Root]",
   "language": "python",
   "name": "Python [Root]"
  },
  "language_info": {
   "codemirror_mode": {
    "name": "ipython",
    "version": 2
   },
   "file_extension": ".py",
   "mimetype": "text/x-python",
   "name": "python",
   "nbconvert_exporter": "python",
   "pygments_lexer": "ipython2",
   "version": "2.7.11"
  }
 },
 "nbformat": 4,
 "nbformat_minor": 0
}
